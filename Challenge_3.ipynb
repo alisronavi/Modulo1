{
 "cells": [
  {
   "cell_type": "markdown",
   "id": "147362a0",
   "metadata": {},
   "source": [
    "Challenge 3: Dictionaries\n",
    "In this challenge you will practice how to manipulate Python dictionaries. Before starting on this challenge, you are encouraged to review W3School's Python Dictionary Examples and Methods.\n",
    "\n",
    "First thing you will practice is how to sort the keys in a dictionary. Unlike the list object, Python dictionary does not have a built-in sort method. You'll need to use FOR loops to to sort dictionaries either by key or by value.\n",
    "\n",
    "The dictionary below is a summary of the word frequency of Ed Sheeran's song Shape of You. Each key is a word in the lyrics and the value is the number of times that word appears in the lyrics."
   ]
  },
  {
   "cell_type": "code",
   "execution_count": 1,
   "id": "0b6a9ebc",
   "metadata": {},
   "outputs": [],
   "source": [
    "word_freq = {'love': 25, 'conversation': 1, 'every': 6, \"we're\": 1, 'plate': 1, 'sour': 1, 'jukebox': 1, 'now': 11, 'taxi': 1, 'fast': 1, 'bag': 1, 'man': 1, 'push': 3, 'baby': 14, 'going': 1, 'you': 16, \"don't\": 2, 'one': 1, 'mind': 2, 'backseat': 1, 'friends': 1, 'then': 3, 'know': 2, 'take': 1, 'play': 1, 'okay': 1, 'so': 2, 'begin': 1, 'start': 2, 'over': 1, 'body': 17, 'boy': 2, 'just': 1, 'we': 7, 'are': 1, 'girl': 2, 'tell': 1, 'singing': 2, 'drinking': 1, 'put': 3, 'our': 1, 'where': 1, \"i'll\": 1, 'all': 1, \"isn't\": 1, 'make': 1, 'lover': 1, 'get': 1, 'radio': 1, 'give': 1, \"i'm\": 23, 'like': 10, 'can': 1, 'doing': 2, 'with': 22, 'club': 1, 'come': 37, 'it': 1, 'somebody': 2, 'handmade': 2, 'out': 1, 'new': 6, 'room': 3, 'chance': 1, 'follow': 6, 'in': 27, 'may': 2, 'brand': 6, 'that': 2, 'magnet': 3, 'up': 3, 'first': 1, 'and': 23, 'pull': 3, 'of': 6, 'table': 1, 'much': 2, 'last': 3, 'i': 6, 'thrifty': 1, 'grab': 2, 'was': 2, 'driver': 1, 'slow': 1, 'dance': 1, 'the': 18, 'say': 2, 'trust': 1, 'family': 1, 'week': 1, 'date': 1, 'me': 10, 'do': 3, 'waist': 2, 'smell': 3, 'day': 6, 'although': 3, 'your': 21, 'leave': 1, 'want': 2, \"let's\": 2, 'lead': 6, 'at': 1, 'hand': 1, 'how': 1, 'talk': 4, 'not': 2, 'eat': 1, 'falling': 3, 'about': 1, 'story': 1, 'sweet': 1, 'best': 1, 'crazy': 2, 'let': 1, 'too': 5, 'van': 1, 'shots': 1, 'go': 2, 'to': 2, 'a': 8, 'my': 33, 'is': 5, 'place': 1, 'find': 1, 'shape': 6, 'on': 40, 'kiss': 1, 'were': 3, 'night': 3, 'heart': 3, 'for': 3, 'discovering': 6, 'something': 6, 'be': 16, 'bedsheets': 3, 'fill': 2, 'hours': 2, 'stop': 1, 'bar': 1}\n"
   ]
  },
  {
   "cell_type": "markdown",
   "id": "fd80822c",
   "metadata": {},
   "source": [
    "Sort the keys of word_freq ascendingly.\n",
    "Please create a new dictionary called word_freq2 based on word_freq with the keys sorted ascedingly.\n",
    "\n",
    "There are several ways to achieve that goal but many of the ways are beyond what we have covered so far in the course. There is one way that we'll describe employing what you have learned. Please feel free to use this way or any other way you want."
   ]
  },
  {
   "cell_type": "markdown",
   "id": "d75652c6",
   "metadata": {},
   "source": [
    "First extract the keys of word_freq and convert it to a list called keys."
   ]
  },
  {
   "cell_type": "code",
   "execution_count": 2,
   "id": "28a04f43",
   "metadata": {},
   "outputs": [
    {
     "name": "stdout",
     "output_type": "stream",
     "text": [
      "['love', 'conversation', 'every', \"we're\", 'plate', 'sour', 'jukebox', 'now', 'taxi', 'fast', 'bag', 'man', 'push', 'baby', 'going', 'you', \"don't\", 'one', 'mind', 'backseat', 'friends', 'then', 'know', 'take', 'play', 'okay', 'so', 'begin', 'start', 'over', 'body', 'boy', 'just', 'we', 'are', 'girl', 'tell', 'singing', 'drinking', 'put', 'our', 'where', \"i'll\", 'all', \"isn't\", 'make', 'lover', 'get', 'radio', 'give', \"i'm\", 'like', 'can', 'doing', 'with', 'club', 'come', 'it', 'somebody', 'handmade', 'out', 'new', 'room', 'chance', 'follow', 'in', 'may', 'brand', 'that', 'magnet', 'up', 'first', 'and', 'pull', 'of', 'table', 'much', 'last', 'i', 'thrifty', 'grab', 'was', 'driver', 'slow', 'dance', 'the', 'say', 'trust', 'family', 'week', 'date', 'me', 'do', 'waist', 'smell', 'day', 'although', 'your', 'leave', 'want', \"let's\", 'lead', 'at', 'hand', 'how', 'talk', 'not', 'eat', 'falling', 'about', 'story', 'sweet', 'best', 'crazy', 'let', 'too', 'van', 'shots', 'go', 'to', 'a', 'my', 'is', 'place', 'find', 'shape', 'on', 'kiss', 'were', 'night', 'heart', 'for', 'discovering', 'something', 'be', 'bedsheets', 'fill', 'hours', 'stop', 'bar']\n"
     ]
    }
   ],
   "source": [
    "keys = list(word_freq.keys())\n",
    "print(keys)"
   ]
  },
  {
   "cell_type": "markdown",
   "id": "8ebb6459",
   "metadata": {},
   "source": [
    "Sort the keys list."
   ]
  },
  {
   "cell_type": "code",
   "execution_count": 3,
   "id": "fd06e376",
   "metadata": {},
   "outputs": [
    {
     "data": {
      "text/plain": [
       "['a',\n",
       " 'about',\n",
       " 'all',\n",
       " 'although',\n",
       " 'and',\n",
       " 'are',\n",
       " 'at',\n",
       " 'baby',\n",
       " 'backseat',\n",
       " 'bag',\n",
       " 'bar',\n",
       " 'be',\n",
       " 'bedsheets',\n",
       " 'begin',\n",
       " 'best',\n",
       " 'body',\n",
       " 'boy',\n",
       " 'brand',\n",
       " 'can',\n",
       " 'chance',\n",
       " 'club',\n",
       " 'come',\n",
       " 'conversation',\n",
       " 'crazy',\n",
       " 'dance',\n",
       " 'date',\n",
       " 'day',\n",
       " 'discovering',\n",
       " 'do',\n",
       " 'doing',\n",
       " \"don't\",\n",
       " 'drinking',\n",
       " 'driver',\n",
       " 'eat',\n",
       " 'every',\n",
       " 'falling',\n",
       " 'family',\n",
       " 'fast',\n",
       " 'fill',\n",
       " 'find',\n",
       " 'first',\n",
       " 'follow',\n",
       " 'for',\n",
       " 'friends',\n",
       " 'get',\n",
       " 'girl',\n",
       " 'give',\n",
       " 'go',\n",
       " 'going',\n",
       " 'grab',\n",
       " 'hand',\n",
       " 'handmade',\n",
       " 'heart',\n",
       " 'hours',\n",
       " 'how',\n",
       " 'i',\n",
       " \"i'll\",\n",
       " \"i'm\",\n",
       " 'in',\n",
       " 'is',\n",
       " \"isn't\",\n",
       " 'it',\n",
       " 'jukebox',\n",
       " 'just',\n",
       " 'kiss',\n",
       " 'know',\n",
       " 'last',\n",
       " 'lead',\n",
       " 'leave',\n",
       " 'let',\n",
       " \"let's\",\n",
       " 'like',\n",
       " 'love',\n",
       " 'lover',\n",
       " 'magnet',\n",
       " 'make',\n",
       " 'man',\n",
       " 'may',\n",
       " 'me',\n",
       " 'mind',\n",
       " 'much',\n",
       " 'my',\n",
       " 'new',\n",
       " 'night',\n",
       " 'not',\n",
       " 'now',\n",
       " 'of',\n",
       " 'okay',\n",
       " 'on',\n",
       " 'one',\n",
       " 'our',\n",
       " 'out',\n",
       " 'over',\n",
       " 'place',\n",
       " 'plate',\n",
       " 'play',\n",
       " 'pull',\n",
       " 'push',\n",
       " 'put',\n",
       " 'radio',\n",
       " 'room',\n",
       " 'say',\n",
       " 'shape',\n",
       " 'shots',\n",
       " 'singing',\n",
       " 'slow',\n",
       " 'smell',\n",
       " 'so',\n",
       " 'somebody',\n",
       " 'something',\n",
       " 'sour',\n",
       " 'start',\n",
       " 'stop',\n",
       " 'story',\n",
       " 'sweet',\n",
       " 'table',\n",
       " 'take',\n",
       " 'talk',\n",
       " 'taxi',\n",
       " 'tell',\n",
       " 'that',\n",
       " 'the',\n",
       " 'then',\n",
       " 'thrifty',\n",
       " 'to',\n",
       " 'too',\n",
       " 'trust',\n",
       " 'up',\n",
       " 'van',\n",
       " 'waist',\n",
       " 'want',\n",
       " 'was',\n",
       " 'we',\n",
       " \"we're\",\n",
       " 'week',\n",
       " 'were',\n",
       " 'where',\n",
       " 'with',\n",
       " 'you',\n",
       " 'your']"
      ]
     },
     "execution_count": 3,
     "metadata": {},
     "output_type": "execute_result"
    }
   ],
   "source": [
    "sorted(keys)"
   ]
  },
  {
   "cell_type": "markdown",
   "id": "efeead91",
   "metadata": {},
   "source": [
    "Create an empty dictionary word_freq2."
   ]
  },
  {
   "cell_type": "code",
   "execution_count": 4,
   "id": "05ca6e52",
   "metadata": {},
   "outputs": [
    {
     "data": {
      "text/plain": [
       "dict"
      ]
     },
     "execution_count": 4,
     "metadata": {},
     "output_type": "execute_result"
    }
   ],
   "source": [
    "word_freq2 = {}\n",
    "type(word_freq2)"
   ]
  },
  {
   "cell_type": "markdown",
   "id": "0d4d1ea9",
   "metadata": {},
   "source": [
    "Use a FOR loop to iterate each value in keys. For each key iterated, find the corresponding value in word_freq and insert the key-value pair to word_freq2."
   ]
  },
  {
   "cell_type": "code",
   "execution_count": 9,
   "id": "48d2c681",
   "metadata": {},
   "outputs": [
    {
     "name": "stdout",
     "output_type": "stream",
     "text": [
      "{'love': 25, 'conversation': 1, 'every': 6, \"we're\": 1, 'plate': 1, 'sour': 1, 'jukebox': 1, 'now': 11, 'taxi': 1, 'fast': 1, 'bag': 1, 'man': 1, 'push': 3, 'baby': 14, 'going': 1, 'you': 16, \"don't\": 2, 'one': 1, 'mind': 2, 'backseat': 1, 'friends': 1, 'then': 3, 'know': 2, 'take': 1, 'play': 1, 'okay': 1, 'so': 2, 'begin': 1, 'start': 2, 'over': 1, 'body': 17, 'boy': 2, 'just': 1, 'we': 7, 'are': 1, 'girl': 2, 'tell': 1, 'singing': 2, 'drinking': 1, 'put': 3, 'our': 1, 'where': 1, \"i'll\": 1, 'all': 1, \"isn't\": 1, 'make': 1, 'lover': 1, 'get': 1, 'radio': 1, 'give': 1, \"i'm\": 23, 'like': 10, 'can': 1, 'doing': 2, 'with': 22, 'club': 1, 'come': 37, 'it': 1, 'somebody': 2, 'handmade': 2, 'out': 1, 'new': 6, 'room': 3, 'chance': 1, 'follow': 6, 'in': 27, 'may': 2, 'brand': 6, 'that': 2, 'magnet': 3, 'up': 3, 'first': 1, 'and': 23, 'pull': 3, 'of': 6, 'table': 1, 'much': 2, 'last': 3, 'i': 6, 'thrifty': 1, 'grab': 2, 'was': 2, 'driver': 1, 'slow': 1, 'dance': 1, 'the': 18, 'say': 2, 'trust': 1, 'family': 1, 'week': 1, 'date': 1, 'me': 10, 'do': 3, 'waist': 2, 'smell': 3, 'day': 6, 'although': 3, 'your': 21, 'leave': 1, 'want': 2, \"let's\": 2, 'lead': 6, 'at': 1, 'hand': 1, 'how': 1, 'talk': 4, 'not': 2, 'eat': 1, 'falling': 3, 'about': 1, 'story': 1, 'sweet': 1, 'best': 1, 'crazy': 2, 'let': 1, 'too': 5, 'van': 1, 'shots': 1, 'go': 2, 'to': 2, 'a': 8, 'my': 33, 'is': 5, 'place': 1, 'find': 1, 'shape': 6, 'on': 40, 'kiss': 1, 'were': 3, 'night': 3, 'heart': 3, 'for': 3, 'discovering': 6, 'something': 6, 'be': 16, 'bedsheets': 3, 'fill': 2, 'hours': 2, 'stop': 1, 'bar': 1}\n"
     ]
    }
   ],
   "source": [
    "for i in keys:\n",
    "    word_freq2[i] = word_freq.get(i)\n",
    "print(word_freq2)"
   ]
  },
  {
   "cell_type": "markdown",
   "id": "f5da9ecb",
   "metadata": {},
   "source": [
    "Print out word_freq2 to examine its keys and values. Your output should be:"
   ]
  },
  {
   "cell_type": "code",
   "execution_count": 10,
   "id": "566482bc",
   "metadata": {},
   "outputs": [
    {
     "name": "stdout",
     "output_type": "stream",
     "text": [
      "{'love': 25, 'conversation': 1, 'every': 6, \"we're\": 1, 'plate': 1, 'sour': 1, 'jukebox': 1, 'now': 11, 'taxi': 1, 'fast': 1, 'bag': 1, 'man': 1, 'push': 3, 'baby': 14, 'going': 1, 'you': 16, \"don't\": 2, 'one': 1, 'mind': 2, 'backseat': 1, 'friends': 1, 'then': 3, 'know': 2, 'take': 1, 'play': 1, 'okay': 1, 'so': 2, 'begin': 1, 'start': 2, 'over': 1, 'body': 17, 'boy': 2, 'just': 1, 'we': 7, 'are': 1, 'girl': 2, 'tell': 1, 'singing': 2, 'drinking': 1, 'put': 3, 'our': 1, 'where': 1, \"i'll\": 1, 'all': 1, \"isn't\": 1, 'make': 1, 'lover': 1, 'get': 1, 'radio': 1, 'give': 1, \"i'm\": 23, 'like': 10, 'can': 1, 'doing': 2, 'with': 22, 'club': 1, 'come': 37, 'it': 1, 'somebody': 2, 'handmade': 2, 'out': 1, 'new': 6, 'room': 3, 'chance': 1, 'follow': 6, 'in': 27, 'may': 2, 'brand': 6, 'that': 2, 'magnet': 3, 'up': 3, 'first': 1, 'and': 23, 'pull': 3, 'of': 6, 'table': 1, 'much': 2, 'last': 3, 'i': 6, 'thrifty': 1, 'grab': 2, 'was': 2, 'driver': 1, 'slow': 1, 'dance': 1, 'the': 18, 'say': 2, 'trust': 1, 'family': 1, 'week': 1, 'date': 1, 'me': 10, 'do': 3, 'waist': 2, 'smell': 3, 'day': 6, 'although': 3, 'your': 21, 'leave': 1, 'want': 2, \"let's\": 2, 'lead': 6, 'at': 1, 'hand': 1, 'how': 1, 'talk': 4, 'not': 2, 'eat': 1, 'falling': 3, 'about': 1, 'story': 1, 'sweet': 1, 'best': 1, 'crazy': 2, 'let': 1, 'too': 5, 'van': 1, 'shots': 1, 'go': 2, 'to': 2, 'a': 8, 'my': 33, 'is': 5, 'place': 1, 'find': 1, 'shape': 6, 'on': 40, 'kiss': 1, 'were': 3, 'night': 3, 'heart': 3, 'for': 3, 'discovering': 6, 'something': 6, 'be': 16, 'bedsheets': 3, 'fill': 2, 'hours': 2, 'stop': 1, 'bar': 1}\n"
     ]
    }
   ],
   "source": [
    "print(word_freq2)"
   ]
  },
  {
   "cell_type": "markdown",
   "id": "e7c94919",
   "metadata": {},
   "source": [
    "Sort the values of word_freq ascendingly.\n",
    "Sorting the values of a dictionary is more tricky than sorting the keys because a dictionary's values are not unique. Therefore you cannot use the same way you sorted dict keys to sort dict values.\n",
    "\n",
    "The way to sort a dict by value is to utilize the sorted and operator.itemgetter functions. The following code snippet is provided to you to try. It will give you a list of tuples in which each tuple contains the key and value of a dict item. And the list is sorted based on the dict value (reference ).\n",
    "\n",
    "import operator\n",
    "sorted_tups = sorted(word_freq.items(), key=operator.itemgetter(1))\n",
    "print(sorted_tups)\n",
    "Therefore, the steps to sort word_freq by value are:\n",
    "\n",
    "Using sorted and operator.itemgetter, obtain a list of tuples of the dict key-value pairs which is sorted on the value.\n",
    "\n",
    "Create an empty dictionary named word_freq2.\n",
    "\n",
    "Iterate the list of tuples. Insert each key-value pair into word_freq2 as an object."
   ]
  },
  {
   "cell_type": "code",
   "execution_count": 12,
   "id": "7764cb11",
   "metadata": {},
   "outputs": [
    {
     "name": "stdout",
     "output_type": "stream",
     "text": [
      "[('conversation', 1), (\"we're\", 1), ('plate', 1), ('sour', 1), ('jukebox', 1), ('taxi', 1), ('fast', 1), ('bag', 1), ('man', 1), ('going', 1), ('one', 1), ('backseat', 1), ('friends', 1), ('take', 1), ('play', 1), ('okay', 1), ('begin', 1), ('over', 1), ('just', 1), ('are', 1), ('tell', 1), ('drinking', 1), ('our', 1), ('where', 1), (\"i'll\", 1), ('all', 1), (\"isn't\", 1), ('make', 1), ('lover', 1), ('get', 1), ('radio', 1), ('give', 1), ('can', 1), ('club', 1), ('it', 1), ('out', 1), ('chance', 1), ('first', 1), ('table', 1), ('thrifty', 1), ('driver', 1), ('slow', 1), ('dance', 1), ('trust', 1), ('family', 1), ('week', 1), ('date', 1), ('leave', 1), ('at', 1), ('hand', 1), ('how', 1), ('eat', 1), ('about', 1), ('story', 1), ('sweet', 1), ('best', 1), ('let', 1), ('van', 1), ('shots', 1), ('place', 1), ('find', 1), ('kiss', 1), ('stop', 1), ('bar', 1), (\"don't\", 2), ('mind', 2), ('know', 2), ('so', 2), ('start', 2), ('boy', 2), ('girl', 2), ('singing', 2), ('doing', 2), ('somebody', 2), ('handmade', 2), ('may', 2), ('that', 2), ('much', 2), ('grab', 2), ('was', 2), ('say', 2), ('waist', 2), ('want', 2), (\"let's\", 2), ('not', 2), ('crazy', 2), ('go', 2), ('to', 2), ('fill', 2), ('hours', 2), ('push', 3), ('then', 3), ('put', 3), ('room', 3), ('magnet', 3), ('up', 3), ('pull', 3), ('last', 3), ('do', 3), ('smell', 3), ('although', 3), ('falling', 3), ('were', 3), ('night', 3), ('heart', 3), ('for', 3), ('bedsheets', 3), ('talk', 4), ('too', 5), ('is', 5), ('every', 6), ('new', 6), ('follow', 6), ('brand', 6), ('of', 6), ('i', 6), ('day', 6), ('lead', 6), ('shape', 6), ('discovering', 6), ('something', 6), ('we', 7), ('a', 8), ('like', 10), ('me', 10), ('now', 11), ('baby', 14), ('you', 16), ('be', 16), ('body', 17), ('the', 18), ('your', 21), ('with', 22), (\"i'm\", 23), ('and', 23), ('love', 25), ('in', 27), ('my', 33), ('come', 37), ('on', 40)]\n"
     ]
    }
   ],
   "source": [
    "import operator\n",
    "sorted_tups = sorted(word_freq.items(), key=operator.itemgetter(1))\n",
    "print(sorted_tups)"
   ]
  },
  {
   "cell_type": "markdown",
   "id": "696ebd86",
   "metadata": {},
   "source": [
    "Convert word_freq into Pandas dataframes\n",
    "In your future work, you may need to convert Python dictionaries to Pandas dataframes. So let's practice this by converting word_freq.\n",
    "\n",
    "First, import the pandas library.\n",
    "\n",
    "import pandas as pd\n",
    "\n",
    "Then, use the pd.DataFrame() constructor to convert word_freq into a dataframe.\n",
    "\n",
    "Here's a reference to show you how to accomplish this. Also name the two columns of the dataframe as word and freq.\n",
    "\n",
    "Assign the converted value to a variable called df. The first few rows of df should look like this:\n"
   ]
  },
  {
   "cell_type": "code",
   "execution_count": 18,
   "id": "1e0ac2d3",
   "metadata": {},
   "outputs": [
    {
     "name": "stdout",
     "output_type": "stream",
     "text": [
      "             word  freq\n",
      "0            love    25\n",
      "1    conversation     1\n",
      "2           every     6\n",
      "3           we're     1\n",
      "4           plate     1\n",
      "..            ...   ...\n",
      "135     bedsheets     3\n",
      "136          fill     2\n",
      "137         hours     2\n",
      "138          stop     1\n",
      "139           bar     1\n",
      "\n",
      "[140 rows x 2 columns]\n"
     ]
    }
   ],
   "source": [
    "import pandas as pd\n",
    "pd.DataFrame() \n",
    "df= pd.DataFrame(word_freq.items(),columns=['word','freq'])\n",
    "print(df)"
   ]
  },
  {
   "cell_type": "markdown",
   "id": "9c095416",
   "metadata": {},
   "source": [
    "With the Pandas DataFrame, you can sort the values easily with the built-in method sort_values (reference).\n",
    "\n",
    "Sort df ascendingly based on column word."
   ]
  },
  {
   "cell_type": "code",
   "execution_count": 19,
   "id": "f88bf992",
   "metadata": {},
   "outputs": [
    {
     "data": {
      "text/html": [
       "<div>\n",
       "<style scoped>\n",
       "    .dataframe tbody tr th:only-of-type {\n",
       "        vertical-align: middle;\n",
       "    }\n",
       "\n",
       "    .dataframe tbody tr th {\n",
       "        vertical-align: top;\n",
       "    }\n",
       "\n",
       "    .dataframe thead th {\n",
       "        text-align: right;\n",
       "    }\n",
       "</style>\n",
       "<table border=\"1\" class=\"dataframe\">\n",
       "  <thead>\n",
       "    <tr style=\"text-align: right;\">\n",
       "      <th></th>\n",
       "      <th>word</th>\n",
       "      <th>freq</th>\n",
       "    </tr>\n",
       "  </thead>\n",
       "  <tbody>\n",
       "    <tr>\n",
       "      <th>120</th>\n",
       "      <td>a</td>\n",
       "      <td>8</td>\n",
       "    </tr>\n",
       "    <tr>\n",
       "      <th>109</th>\n",
       "      <td>about</td>\n",
       "      <td>1</td>\n",
       "    </tr>\n",
       "    <tr>\n",
       "      <th>43</th>\n",
       "      <td>all</td>\n",
       "      <td>1</td>\n",
       "    </tr>\n",
       "    <tr>\n",
       "      <th>96</th>\n",
       "      <td>although</td>\n",
       "      <td>3</td>\n",
       "    </tr>\n",
       "    <tr>\n",
       "      <th>72</th>\n",
       "      <td>and</td>\n",
       "      <td>23</td>\n",
       "    </tr>\n",
       "    <tr>\n",
       "      <th>...</th>\n",
       "      <td>...</td>\n",
       "      <td>...</td>\n",
       "    </tr>\n",
       "    <tr>\n",
       "      <th>128</th>\n",
       "      <td>were</td>\n",
       "      <td>3</td>\n",
       "    </tr>\n",
       "    <tr>\n",
       "      <th>41</th>\n",
       "      <td>where</td>\n",
       "      <td>1</td>\n",
       "    </tr>\n",
       "    <tr>\n",
       "      <th>54</th>\n",
       "      <td>with</td>\n",
       "      <td>22</td>\n",
       "    </tr>\n",
       "    <tr>\n",
       "      <th>15</th>\n",
       "      <td>you</td>\n",
       "      <td>16</td>\n",
       "    </tr>\n",
       "    <tr>\n",
       "      <th>97</th>\n",
       "      <td>your</td>\n",
       "      <td>21</td>\n",
       "    </tr>\n",
       "  </tbody>\n",
       "</table>\n",
       "<p>140 rows × 2 columns</p>\n",
       "</div>"
      ],
      "text/plain": [
       "         word  freq\n",
       "120         a     8\n",
       "109     about     1\n",
       "43        all     1\n",
       "96   although     3\n",
       "72        and    23\n",
       "..        ...   ...\n",
       "128      were     3\n",
       "41      where     1\n",
       "54       with    22\n",
       "15        you    16\n",
       "97       your    21\n",
       "\n",
       "[140 rows x 2 columns]"
      ]
     },
     "execution_count": 19,
     "metadata": {},
     "output_type": "execute_result"
    }
   ],
   "source": [
    "df.sort_values(by='word', ascending=True)"
   ]
  },
  {
   "cell_type": "markdown",
   "id": "cb81e7a1",
   "metadata": {},
   "source": [
    "Sort df ascendingly based on column freq."
   ]
  },
  {
   "cell_type": "code",
   "execution_count": 20,
   "id": "347cd0a0",
   "metadata": {},
   "outputs": [
    {
     "data": {
      "text/html": [
       "<div>\n",
       "<style scoped>\n",
       "    .dataframe tbody tr th:only-of-type {\n",
       "        vertical-align: middle;\n",
       "    }\n",
       "\n",
       "    .dataframe tbody tr th {\n",
       "        vertical-align: top;\n",
       "    }\n",
       "\n",
       "    .dataframe thead th {\n",
       "        text-align: right;\n",
       "    }\n",
       "</style>\n",
       "<table border=\"1\" class=\"dataframe\">\n",
       "  <thead>\n",
       "    <tr style=\"text-align: right;\">\n",
       "      <th></th>\n",
       "      <th>word</th>\n",
       "      <th>freq</th>\n",
       "    </tr>\n",
       "  </thead>\n",
       "  <tbody>\n",
       "    <tr>\n",
       "      <th>139</th>\n",
       "      <td>bar</td>\n",
       "      <td>1</td>\n",
       "    </tr>\n",
       "    <tr>\n",
       "      <th>114</th>\n",
       "      <td>let</td>\n",
       "      <td>1</td>\n",
       "    </tr>\n",
       "    <tr>\n",
       "      <th>116</th>\n",
       "      <td>van</td>\n",
       "      <td>1</td>\n",
       "    </tr>\n",
       "    <tr>\n",
       "      <th>60</th>\n",
       "      <td>out</td>\n",
       "      <td>1</td>\n",
       "    </tr>\n",
       "    <tr>\n",
       "      <th>57</th>\n",
       "      <td>it</td>\n",
       "      <td>1</td>\n",
       "    </tr>\n",
       "    <tr>\n",
       "      <th>...</th>\n",
       "      <td>...</td>\n",
       "      <td>...</td>\n",
       "    </tr>\n",
       "    <tr>\n",
       "      <th>0</th>\n",
       "      <td>love</td>\n",
       "      <td>25</td>\n",
       "    </tr>\n",
       "    <tr>\n",
       "      <th>65</th>\n",
       "      <td>in</td>\n",
       "      <td>27</td>\n",
       "    </tr>\n",
       "    <tr>\n",
       "      <th>121</th>\n",
       "      <td>my</td>\n",
       "      <td>33</td>\n",
       "    </tr>\n",
       "    <tr>\n",
       "      <th>56</th>\n",
       "      <td>come</td>\n",
       "      <td>37</td>\n",
       "    </tr>\n",
       "    <tr>\n",
       "      <th>126</th>\n",
       "      <td>on</td>\n",
       "      <td>40</td>\n",
       "    </tr>\n",
       "  </tbody>\n",
       "</table>\n",
       "<p>140 rows × 2 columns</p>\n",
       "</div>"
      ],
      "text/plain": [
       "     word  freq\n",
       "139   bar     1\n",
       "114   let     1\n",
       "116   van     1\n",
       "60    out     1\n",
       "57     it     1\n",
       "..    ...   ...\n",
       "0    love    25\n",
       "65     in    27\n",
       "121    my    33\n",
       "56   come    37\n",
       "126    on    40\n",
       "\n",
       "[140 rows x 2 columns]"
      ]
     },
     "execution_count": 20,
     "metadata": {},
     "output_type": "execute_result"
    }
   ],
   "source": [
    "df.sort_values(by='freq', ascending=True)"
   ]
  },
  {
   "cell_type": "code",
   "execution_count": null,
   "id": "78464039",
   "metadata": {},
   "outputs": [],
   "source": []
  }
 ],
 "metadata": {
  "kernelspec": {
   "display_name": "Python 3 (ipykernel)",
   "language": "python",
   "name": "python3"
  },
  "language_info": {
   "codemirror_mode": {
    "name": "ipython",
    "version": 3
   },
   "file_extension": ".py",
   "mimetype": "text/x-python",
   "name": "python",
   "nbconvert_exporter": "python",
   "pygments_lexer": "ipython3",
   "version": "3.9.12"
  }
 },
 "nbformat": 4,
 "nbformat_minor": 5
}
