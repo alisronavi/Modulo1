{
 "cells": [
  {
   "cell_type": "markdown",
   "id": "ce0adfeb",
   "metadata": {},
   "source": [
    "# Challenge 2: Sets\n",
    "There are a lot to learn about Python Sets and the information presented in the lesson is limited due to its length. To learn Python Sets in depth you are strongly encouraged to review the W3Schools tutorial on Python Sets Examples and Methods before you work on this lab. Some difficult questions in this lab have their solutions in the W3Schools tutorial.\n",
    "\n"
   ]
  },
  {
   "cell_type": "markdown",
   "id": "7da3bc46",
   "metadata": {},
   "source": [
    "First, import the Python random libary"
   ]
  },
  {
   "cell_type": "code",
   "execution_count": 7,
   "id": "4e0d20e5",
   "metadata": {},
   "outputs": [],
   "source": [
    "import random"
   ]
  },
  {
   "cell_type": "markdown",
   "id": "2dcd2622",
   "metadata": {},
   "source": [
    "In the cell below, create a list named sample_list_1 with 80 random values.\n",
    "Requirements:\n",
    "\n",
    "Each value is an integer falling between 0 and 100.\n",
    "Each value in the list is unique.\n",
    "Print sample_list_1 to review its values\n",
    "\n",
    "Hint: use random.sample (reference)."
   ]
  },
  {
   "cell_type": "code",
   "execution_count": 8,
   "id": "80112fca",
   "metadata": {},
   "outputs": [
    {
     "name": "stdout",
     "output_type": "stream",
     "text": [
      "[98, 81, 38, 36, 6, 40, 68, 90, 3, 91, 72, 54, 29, 42, 15, 2, 20, 92, 1, 49, 16, 52, 85, 50, 28, 60, 71, 77, 82, 25, 56, 69, 87, 83, 24, 12, 30, 93, 41, 57, 65, 70, 97, 31, 64, 67, 14, 46, 27, 63, 55, 51, 32, 13, 22, 23, 79, 73, 62, 45, 0, 61, 47, 66, 99, 37, 74, 34, 80, 39, 33, 78, 18, 26, 94, 9, 88, 58, 75, 76]\n"
     ]
    }
   ],
   "source": [
    "sample_list_1 = (random.sample(range(100), k=80))\n",
    "print(sample_list_1)"
   ]
  },
  {
   "cell_type": "markdown",
   "id": "7395b7fa",
   "metadata": {},
   "source": [
    "Convert sample_list_1 to a set called set1. Print the length of the set. Is its length still 80?"
   ]
  },
  {
   "cell_type": "code",
   "execution_count": 9,
   "id": "86f18368",
   "metadata": {},
   "outputs": [
    {
     "name": "stdout",
     "output_type": "stream",
     "text": [
      "{0, 1, 2, 3, 6, 9, 12, 13, 14, 15, 16, 18, 20, 22, 23, 24, 25, 26, 27, 28, 29, 30, 31, 32, 33, 34, 36, 37, 38, 39, 40, 41, 42, 45, 46, 47, 49, 50, 51, 52, 54, 55, 56, 57, 58, 60, 61, 62, 63, 64, 65, 66, 67, 68, 69, 70, 71, 72, 73, 74, 75, 76, 77, 78, 79, 80, 81, 82, 83, 85, 87, 88, 90, 91, 92, 93, 94, 97, 98, 99}\n"
     ]
    }
   ],
   "source": [
    "set1 = set(sample_list_1)\n",
    "print(set1)"
   ]
  },
  {
   "cell_type": "code",
   "execution_count": 10,
   "id": "211b53cc",
   "metadata": {},
   "outputs": [
    {
     "data": {
      "text/plain": [
       "80"
      ]
     },
     "execution_count": 10,
     "metadata": {},
     "output_type": "execute_result"
    }
   ],
   "source": [
    "len(set1)"
   ]
  },
  {
   "cell_type": "markdown",
   "id": "f6320ac8",
   "metadata": {},
   "source": [
    "Create another list named sample_list_2 with 80 random values.\n",
    "Requirements:\n",
    "\n",
    "Each value is an integer falling between 0 and 100.\n",
    "The values in the list don't have to be unique.\n",
    "Hint: Use a FOR loop."
   ]
  },
  {
   "cell_type": "code",
   "execution_count": 38,
   "id": "484bb8f4",
   "metadata": {
    "scrolled": true
   },
   "outputs": [
    {
     "name": "stdout",
     "output_type": "stream",
     "text": [
      "[43, 26, 7, 5, 66, 71, 5, 23, 56, 71, 46, 63, 38, 8, 72, 86, 15, 28, 40, 55, 62, 68, 55, 99, 70, 23, 34, 51, 16, 23, 78, 25, 65, 95, 59, 53, 35, 51, 74, 25, 51, 30, 65, 39, 41, 14, 59, 55, 44, 30, 22, 16, 16, 69, 44, 6, 43, 94, 41, 49, 82, 53, 80, 15, 94, 73, 19, 19, 16, 29, 12, 10, 16, 41, 48, 85, 72, 28, 26, 23]\n"
     ]
    }
   ],
   "source": [
    "sample_list_2 = [random.randrange(0,100) for i in range(80)]\n",
    "print(sample_list_2)"
   ]
  },
  {
   "cell_type": "markdown",
   "id": "90107256",
   "metadata": {},
   "source": [
    "Convert sample_list_2 to a set called set2. Print the length of the set. Is its length still 80?"
   ]
  },
  {
   "cell_type": "code",
   "execution_count": 39,
   "id": "c7549d66",
   "metadata": {},
   "outputs": [
    {
     "name": "stdout",
     "output_type": "stream",
     "text": [
      "{5, 6, 7, 8, 10, 12, 14, 15, 16, 19, 22, 23, 25, 26, 28, 29, 30, 34, 35, 38, 39, 40, 41, 43, 44, 46, 48, 49, 51, 53, 55, 56, 59, 62, 63, 65, 66, 68, 69, 70, 71, 72, 73, 74, 78, 80, 82, 85, 86, 94, 95, 99}\n"
     ]
    }
   ],
   "source": [
    "set2 = set(sample_list_2)\n",
    "print(set2)"
   ]
  },
  {
   "cell_type": "code",
   "execution_count": 40,
   "id": "a400eb3c",
   "metadata": {},
   "outputs": [
    {
     "data": {
      "text/plain": [
       "52"
      ]
     },
     "execution_count": 40,
     "metadata": {},
     "output_type": "execute_result"
    }
   ],
   "source": [
    "len(set2)"
   ]
  },
  {
   "cell_type": "markdown",
   "id": "fb578836",
   "metadata": {},
   "source": [
    "Identify the elements present in set1 but not in set2. Assign the elements to a new set named set3."
   ]
  },
  {
   "cell_type": "code",
   "execution_count": 43,
   "id": "f6ac55d4",
   "metadata": {},
   "outputs": [
    {
     "name": "stdout",
     "output_type": "stream",
     "text": [
      "{0, 1, 2, 3, 9, 13, 18, 20, 24, 27, 31, 32, 33, 36, 37, 42, 45, 47, 50, 52, 54, 57, 58, 60, 61, 64, 67, 75, 76, 77, 79, 81, 83, 87, 88, 90, 91, 92, 93, 97, 98}\n"
     ]
    }
   ],
   "source": [
    "set3 = set1.difference(set2)\n",
    "print(set3)"
   ]
  },
  {
   "cell_type": "markdown",
   "id": "2d4885ed",
   "metadata": {},
   "source": [
    "Identify the elements present in set2 but not in set1. Assign the elements to a new set named set4."
   ]
  },
  {
   "cell_type": "code",
   "execution_count": 44,
   "id": "b1935782",
   "metadata": {},
   "outputs": [
    {
     "name": "stdout",
     "output_type": "stream",
     "text": [
      "{35, 5, 7, 8, 10, 43, 44, 48, 19, 53, 86, 59, 95}\n"
     ]
    }
   ],
   "source": [
    "set4 = set2.difference(set1)\n",
    "print(set4)"
   ]
  },
  {
   "cell_type": "markdown",
   "id": "0ca356fc",
   "metadata": {},
   "source": [
    "Now Identify the elements shared between set1 and set2. Assign the elements to a new set named set5."
   ]
  },
  {
   "cell_type": "code",
   "execution_count": 46,
   "id": "872a8fd1",
   "metadata": {},
   "outputs": [
    {
     "name": "stdout",
     "output_type": "stream",
     "text": [
      "{6, 12, 14, 15, 16, 22, 23, 25, 26, 28, 29, 30, 34, 38, 39, 40, 41, 46, 49, 51, 55, 56, 62, 63, 65, 66, 68, 69, 70, 71, 72, 73, 74, 78, 80, 82, 85, 94, 99}\n"
     ]
    }
   ],
   "source": [
    "set5= set1.intersection(set2)\n",
    "print(set5)"
   ]
  },
  {
   "cell_type": "markdown",
   "id": "b830da03",
   "metadata": {},
   "source": [
    "What is the relationship among the following values:\n",
    "len(set1)\n",
    "len(set2)\n",
    "len(set3)\n",
    "len(set4)\n",
    "len(set5)\n",
    "Use a math formular to represent that relationship. Test your formular with Python code."
   ]
  },
  {
   "cell_type": "code",
   "execution_count": 105,
   "id": "45b9b312",
   "metadata": {},
   "outputs": [
    {
     "name": "stdout",
     "output_type": "stream",
     "text": [
      "True\n",
      "False\n",
      "False\n"
     ]
    }
   ],
   "source": [
    "#Relationship= len(set1.intersection)((len(set2),len(set3),len(set4),len(set5))\n",
    "#len(set3)\n",
    "#len(set4)\n",
    "#len(set5)\n",
    "print(len(set1)==len(set3)+len(set5))\n",
    "print(len(set2)==len(set3)+len(set4))\n",
    "print(len(set1)==len(set2)+len(set2))"
   ]
  },
  {
   "cell_type": "markdown",
   "id": "0f793fff",
   "metadata": {},
   "source": [
    "Create an empty set called set6."
   ]
  },
  {
   "cell_type": "code",
   "execution_count": 112,
   "id": "f732c71c",
   "metadata": {},
   "outputs": [],
   "source": [
    "set6=set()"
   ]
  },
  {
   "cell_type": "markdown",
   "id": "ba08e642",
   "metadata": {},
   "source": [
    "Add set3 and set5 to set6 using the Python Set update method."
   ]
  },
  {
   "cell_type": "code",
   "execution_count": 113,
   "id": "aa048127",
   "metadata": {},
   "outputs": [
    {
     "name": "stdout",
     "output_type": "stream",
     "text": [
      "{0, 1, 2, 3, 6, 9, 12, 13, 14, 15, 16, 18, 20, 22, 23, 24, 25, 26, 27, 28, 29, 30, 31, 32, 33, 34, 36, 37, 38, 39, 40, 41, 42, 45, 46, 47, 49, 50, 51, 52, 54, 55, 56, 57, 58, 60, 61, 62, 63, 64, 65, 66, 67, 68, 69, 70, 71, 72, 73, 74, 75, 76, 77, 78, 79, 80, 81, 82, 83, 85, 87, 88, 90, 91, 92, 93, 94, 97, 98, 99}\n"
     ]
    }
   ],
   "source": [
    "set6.update(set3,set5)\n",
    "print(set6)"
   ]
  },
  {
   "cell_type": "markdown",
   "id": "042064fa",
   "metadata": {},
   "source": [
    "Check if set1 and set6 are equal."
   ]
  },
  {
   "cell_type": "code",
   "execution_count": 114,
   "id": "6ca92832",
   "metadata": {},
   "outputs": [
    {
     "name": "stdout",
     "output_type": "stream",
     "text": [
      "True\n"
     ]
    }
   ],
   "source": [
    "print(set1==set6)"
   ]
  },
  {
   "cell_type": "markdown",
   "id": "4cf88229",
   "metadata": {},
   "source": [
    "Check if set1 contains set2 using the Python Set issubset method. Then check if set1 contains set3.*"
   ]
  },
  {
   "cell_type": "code",
   "execution_count": 115,
   "id": "adae3ad8",
   "metadata": {},
   "outputs": [
    {
     "name": "stdout",
     "output_type": "stream",
     "text": [
      "Set 1 contains set2 False\n",
      "Set 1 contains set3 False\n"
     ]
    }
   ],
   "source": [
    "print('Set 1 contains set2',set1.issubset(set2))\n",
    "print('Set 1 contains set3',set1.issubset(set3))"
   ]
  },
  {
   "cell_type": "markdown",
   "id": "e7583132",
   "metadata": {},
   "source": [
    "Using the Python Set union method, aggregate set3, set4, and set5. Then aggregate set1 and set2.\n",
    "Check if the aggregated values are equal."
   ]
  },
  {
   "cell_type": "code",
   "execution_count": 118,
   "id": "5044958a",
   "metadata": {},
   "outputs": [
    {
     "name": "stdout",
     "output_type": "stream",
     "text": [
      "{0, 1, 2, 3, 5, 6, 7, 8, 9, 10, 12, 13, 14, 15, 16, 18, 19, 20, 22, 23, 24, 25, 26, 27, 28, 29, 30, 31, 32, 33, 34, 35, 36, 37, 38, 39, 40, 41, 42, 43, 44, 45, 46, 47, 48, 49, 50, 51, 52, 53, 54, 55, 56, 57, 58, 59, 60, 61, 62, 63, 64, 65, 66, 67, 68, 69, 70, 71, 72, 73, 74, 75, 76, 77, 78, 79, 80, 81, 82, 83, 85, 86, 87, 88, 90, 91, 92, 93, 94, 95, 97, 98, 99}\n",
      "{0, 1, 2, 3, 5, 6, 7, 8, 9, 10, 12, 13, 14, 15, 16, 18, 19, 20, 22, 23, 24, 25, 26, 27, 28, 29, 30, 31, 32, 33, 34, 35, 36, 37, 38, 39, 40, 41, 42, 43, 44, 45, 46, 47, 48, 49, 50, 51, 52, 53, 54, 55, 56, 57, 58, 59, 60, 61, 62, 63, 64, 65, 66, 67, 68, 69, 70, 71, 72, 73, 74, 75, 76, 77, 78, 79, 80, 81, 82, 83, 85, 86, 87, 88, 90, 91, 92, 93, 94, 95, 97, 98, 99}\n"
     ]
    },
    {
     "data": {
      "text/plain": [
       "True"
      ]
     },
     "execution_count": 118,
     "metadata": {},
     "output_type": "execute_result"
    }
   ],
   "source": [
    "#union2 = set.union(set2)\n",
    "#print(union2)\n",
    "#len(union2)\n",
    "\n",
    "union345= set3.union(set4,set5)\n",
    "union12= set1.union(set2)\n",
    "print(union345)\n",
    "print(union12)\n",
    "\n",
    "union345==union12"
   ]
  },
  {
   "cell_type": "markdown",
   "id": "f0b89e43",
   "metadata": {},
   "source": [
    "Using the pop method, remove the first element from set1."
   ]
  },
  {
   "cell_type": "code",
   "execution_count": null,
   "id": "c17a146e",
   "metadata": {},
   "outputs": [],
   "source": [
    "set1.pop(1)"
   ]
  },
  {
   "cell_type": "markdown",
   "id": "923b7646",
   "metadata": {},
   "source": [
    "Remove every element in the following list from set1 if they are present in the set. Print the remaining elements.\n",
    "list_to_remove = [1, 9, 11, 19, 21, 29, 31, 39, 41, 49, 51, 59, 61, 69, 71, 79, 81, 89, 91, 99]"
   ]
  },
  {
   "cell_type": "code",
   "execution_count": 140,
   "id": "5311d12a",
   "metadata": {},
   "outputs": [
    {
     "name": "stdout",
     "output_type": "stream",
     "text": [
      "{0, 2, 3, 6, 12, 13, 14, 15, 16, 18, 20, 22, 23, 24, 25, 26, 27, 28, 30, 32, 33, 34, 36, 37, 38, 40, 42, 45, 46, 47, 50, 52, 54, 55, 56, 57, 58, 60, 62, 63, 64, 65, 66, 67, 68, 70, 72, 73, 74, 75, 76, 77, 78, 80, 82, 83, 85, 87, 88, 90, 92, 93, 94, 97, 98}\n"
     ]
    }
   ],
   "source": [
    "list_to_remove = [1, 9, 11, 19, 21, 29, 31, 39, 41, 49, 51, 59, 61, 69, 71, 79, 81, 89, 91, 99]\n",
    "for i in list_to_remove:\n",
    "    if i in set1: \n",
    "        set1.discard(i)\n",
    "              \n",
    "print(set1)"
   ]
  }
 ],
 "metadata": {
  "kernelspec": {
   "display_name": "Python 3 (ipykernel)",
   "language": "python",
   "name": "python3"
  },
  "language_info": {
   "codemirror_mode": {
    "name": "ipython",
    "version": 3
   },
   "file_extension": ".py",
   "mimetype": "text/x-python",
   "name": "python",
   "nbconvert_exporter": "python",
   "pygments_lexer": "ipython3",
   "version": "3.9.12"
  }
 },
 "nbformat": 4,
 "nbformat_minor": 5
}
